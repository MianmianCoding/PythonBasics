{
 "cells": [
  {
   "cell_type": "code",
   "execution_count": 1,
   "metadata": {},
   "outputs": [
    {
     "data": {
      "text/plain": [
       "TestResults(failed=0, attempted=2)"
      ]
     },
     "execution_count": 1,
     "metadata": {},
     "output_type": "execute_result"
    }
   ],
   "source": [
    "def every_other(lst):\n",
    "    \"\"\"([int]) -> [int]\n",
    "    \n",
    "    Get every other elements of the list.\n",
    "    \n",
    "    >>> every_other([1, 2, 3, 4, 5, 6])\n",
    "    [1, 3, 5]\n",
    "    \n",
    "    >>> every_other([3, 1, 6, 7, 4])\n",
    "    [3, 6, 4]\n",
    "    \n",
    "    \"\"\"\n",
    "    \n",
    "    return lst[::2]\n",
    "\n",
    "import doctest\n",
    "doctest.testmod()"
   ]
  },
  {
   "cell_type": "code",
   "execution_count": 2,
   "metadata": {},
   "outputs": [
    {
     "name": "stdout",
     "output_type": "stream",
     "text": [
      "Help on function every_other in module __main__:\n",
      "\n",
      "every_other(lst)\n",
      "    ([int]) -> [int]\n",
      "    \n",
      "    Get every other elements of the list.\n",
      "    \n",
      "    >>> every_other([1, 2, 3, 4, 5, 6])\n",
      "    [1, 3, 5]\n",
      "    \n",
      "    >>> every_other([3, 1, 6, 7, 4])\n",
      "    [3, 6, 4]\n",
      "\n"
     ]
    }
   ],
   "source": [
    "help(every_other)"
   ]
  },
  {
   "cell_type": "code",
   "execution_count": 3,
   "metadata": {},
   "outputs": [
    {
     "data": {
      "text/plain": [
       "TestResults(failed=0, attempted=5)"
      ]
     },
     "execution_count": 3,
     "metadata": {},
     "output_type": "execute_result"
    }
   ],
   "source": [
    "class Calculator:\n",
    "    \"\"\"\n",
    "    This is a simple calculator.\n",
    "    \"\"\"\n",
    "    \n",
    "    def add(self, a, b):\n",
    "        \"\"\"(float, float) -> float\n",
    "        \n",
    "        a: first number \n",
    "        b: second number\n",
    "        Requirement: a >= 0, b >= 0\n",
    "        Return: sum of a and b \n",
    "        \n",
    "        Add 2 numbers.\n",
    "        \n",
    "        >>> t = Calculator()\n",
    "        >>> t.add(2, 3)\n",
    "        5\n",
    "        \n",
    "        >>> t.add(-2, 3)\n",
    "        Traceback (most recent call last):\n",
    "        ...\n",
    "        ValueError: input numbers should be greater than zero\n",
    "        \"\"\"\n",
    "        \n",
    "        if a < 0 or b < 0:\n",
    "            raise ValueError(\"input numbers should be greater than zero\")\n",
    "        \n",
    "        return a + b\n",
    "\n",
    "import doctest\n",
    "doctest.testmod()"
   ]
  },
  {
   "cell_type": "code",
   "execution_count": 4,
   "metadata": {},
   "outputs": [
    {
     "name": "stdout",
     "output_type": "stream",
     "text": [
      "Help on class Calculator in module __main__:\n",
      "\n",
      "class Calculator(builtins.object)\n",
      " |  This is a simple calculator.\n",
      " |  \n",
      " |  Methods defined here:\n",
      " |  \n",
      " |  add(self, a, b)\n",
      " |      (float, float) -> float\n",
      " |      \n",
      " |      a: first number \n",
      " |      b: second number\n",
      " |      Requirement: a >= 0, b >= 0\n",
      " |      Return: sum of a and b \n",
      " |      \n",
      " |      Add 2 numbers.\n",
      " |      \n",
      " |      >>> t = Calculator()\n",
      " |      >>> t.add(2, 3)\n",
      " |      5\n",
      " |      \n",
      " |      >>> t.add(-2, 3)\n",
      " |      Traceback (most recent call last):\n",
      " |      ...\n",
      " |      ValueError: input numbers should be greater than zero\n",
      " |  \n",
      " |  ----------------------------------------------------------------------\n",
      " |  Data descriptors defined here:\n",
      " |  \n",
      " |  __dict__\n",
      " |      dictionary for instance variables (if defined)\n",
      " |  \n",
      " |  __weakref__\n",
      " |      list of weak references to the object (if defined)\n",
      "\n"
     ]
    }
   ],
   "source": [
    "help(Calculator)"
   ]
  },
  {
   "cell_type": "code",
   "execution_count": null,
   "metadata": {},
   "outputs": [],
   "source": []
  }
 ],
 "metadata": {
  "kernelspec": {
   "display_name": "Python 3",
   "language": "python",
   "name": "python3"
  },
  "language_info": {
   "codemirror_mode": {
    "name": "ipython",
    "version": 3
   },
   "file_extension": ".py",
   "mimetype": "text/x-python",
   "name": "python",
   "nbconvert_exporter": "python",
   "pygments_lexer": "ipython3",
   "version": "3.8.3"
  }
 },
 "nbformat": 4,
 "nbformat_minor": 4
}
