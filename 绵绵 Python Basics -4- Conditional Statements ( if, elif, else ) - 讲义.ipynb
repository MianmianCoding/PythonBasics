{
 "cells": [
  {
   "cell_type": "markdown",
   "metadata": {},
   "source": [
    "# Conditional Statements ( if, elif, else )\n"
   ]
  },
  {
   "cell_type": "code",
   "execution_count": 1,
   "metadata": {},
   "outputs": [],
   "source": [
    "is_hungry = False\n",
    "\n",
    "if is_hungry:\n",
    "    print(\"I'm hungry!!!\")"
   ]
  },
  {
   "cell_type": "code",
   "execution_count": 2,
   "metadata": {},
   "outputs": [],
   "source": [
    "num = 3\n",
    "\n",
    "if num * 2 == 10:\n",
    "    print('correct')"
   ]
  },
  {
   "cell_type": "markdown",
   "metadata": {},
   "source": [
    "#### 用boolean来实现一个开关"
   ]
  },
  {
   "cell_type": "code",
   "execution_count": 3,
   "metadata": {
    "scrolled": true
   },
   "outputs": [
    {
     "name": "stdout",
     "output_type": "stream",
     "text": [
      "b is true\n"
     ]
    }
   ],
   "source": [
    "# 我们通过控制 b 的值，来控制一串代码，告诉它什么时候干什么事情\n",
    "\n",
    "b = True\n",
    "\n",
    "if b:\n",
    "    print('b is true')\n",
    "else:\n",
    "    print('b is not true')"
   ]
  },
  {
   "cell_type": "markdown",
   "metadata": {},
   "source": [
    "#### the order of conditional statements"
   ]
  },
  {
   "cell_type": "code",
   "execution_count": 4,
   "metadata": {},
   "outputs": [
    {
     "name": "stdout",
     "output_type": "stream",
     "text": [
      "4 is a factor of num\n"
     ]
    }
   ],
   "source": [
    "num = 20\n",
    "\n",
    "if num % 4 == 0:\n",
    "    print('4 is a factor of num')\n",
    "elif num % 2 == 0:\n",
    "    print('2 is a factor of num')\n",
    "else:\n",
    "    print(\"It's an odd number\")"
   ]
  },
  {
   "cell_type": "code",
   "execution_count": 5,
   "metadata": {},
   "outputs": [
    {
     "name": "stdout",
     "output_type": "stream",
     "text": [
      "4 is a factor of num\n",
      "2 is a factor of num\n"
     ]
    }
   ],
   "source": [
    "num = 20\n",
    "\n",
    "if num % 4 == 0:\n",
    "    print('4 is a factor of num')\n",
    "\n",
    "    \n",
    "if num % 2 == 0:\n",
    "    print('2 is a factor of num')\n",
    "else:\n",
    "    print(\"It's an odd number\")"
   ]
  },
  {
   "cell_type": "markdown",
   "metadata": {},
   "source": [
    "#### Multiple elif's"
   ]
  },
  {
   "cell_type": "code",
   "execution_count": 6,
   "metadata": {},
   "outputs": [
    {
     "name": "stdout",
     "output_type": "stream",
     "text": [
      "Room 102\n"
     ]
    }
   ],
   "source": [
    "morning_class = 'math'\n",
    "\n",
    "if morning_class == 'math':\n",
    "    print('Room 102')\n",
    "elif morning_class == 'history':\n",
    "    print('Room 103')\n",
    "elif morning_class == 'music':\n",
    "    print('Room 104')\n",
    "else:\n",
    "    print('Please ask our staff')"
   ]
  }
 ],
 "metadata": {
  "kernelspec": {
   "display_name": "Python 3",
   "language": "python",
   "name": "python3"
  },
  "language_info": {
   "codemirror_mode": {
    "name": "ipython",
    "version": 3
   },
   "file_extension": ".py",
   "mimetype": "text/x-python",
   "name": "python",
   "nbconvert_exporter": "python",
   "pygments_lexer": "ipython3",
   "version": "3.8.3"
  }
 },
 "nbformat": 4,
 "nbformat_minor": 4
}
