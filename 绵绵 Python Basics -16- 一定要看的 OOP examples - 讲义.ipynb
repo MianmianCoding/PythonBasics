{
 "cells": [
  {
   "cell_type": "code",
   "execution_count": 1,
   "metadata": {},
   "outputs": [],
   "source": [
    "import random\n",
    "new_line = '\\n'\n",
    "\n",
    "class Name:\n",
    "    def __init__(self, first_name, last_name):\n",
    "        self.first_name = first_name\n",
    "        self.last_name = last_name\n",
    "        \n",
    "    def __str__(self):\n",
    "        return f'{self.first_name} {self.last_name}'\n",
    "        \n",
    "class Student:\n",
    "    def __init__(self, name):\n",
    "        self.name = name\n",
    "        self.id = random.randint(100000, 999999)\n",
    "        self.academic_terms = []\n",
    "        \n",
    "    def add_academic_term(self, term):\n",
    "        self.academic_terms.append(term)\n",
    "\n",
    "    def __str__(self):\n",
    "        return f'Student Name:{self.name}\\n' \\\n",
    "               f'Student ID:{self.id}\\n' \\\n",
    "               f'Academic History:\\n' \\\n",
    "               f'{new_line.join(map(str, self.academic_terms))}'\n",
    "        \n",
    "class Term:\n",
    "    def __init__(self, year, season):\n",
    "        self.year = year\n",
    "        self.season = season\n",
    "        self.courses = []\n",
    "        \n",
    "    def add_course(self, course):\n",
    "        self.courses.append(course)\n",
    "        \n",
    "    def __str__(self):\n",
    "        return f'{self.year} {self.season}:\\n' \\\n",
    "               f'{new_line.join(map(str, self.courses))}'\n",
    "        \n",
    "class Teacher:\n",
    "    def __init__(self, name):\n",
    "        self.name = name\n",
    "    \n",
    "    def __str__(self):\n",
    "        return str(self.name)\n",
    "        \n",
    "class Course:\n",
    "    def __init__(self, course_name, course_code, teacher):\n",
    "        self.course_name = course_name\n",
    "        self.course_code = course_code\n",
    "        self.teacher = teacher\n",
    "        \n",
    "    def __str__(self):\n",
    "        return f'\\t{self.course_name} - {self.course_code}[{self.teacher}]'"
   ]
  },
  {
   "cell_type": "code",
   "execution_count": 2,
   "metadata": {},
   "outputs": [
    {
     "name": "stdout",
     "output_type": "stream",
     "text": [
      "Student Name:Amy Wang\n",
      "Student ID:432853\n",
      "Academic History:\n",
      "2020 Fall:\n",
      "\tAlgebra 1 - MAT101[Bill Anderson]\n",
      "\tPhysics - PHY101[Bob Li]\n",
      "2020 Winter:\n",
      "\tAlgebra 2 - MAT102[Bill Anderson]\n",
      "\tChemistry - CHEM101[Bob Li]\n"
     ]
    }
   ],
   "source": [
    "bill = Teacher(Name('Bill', 'Anderson'))\n",
    "bob = Teacher(Name('Bob', 'Li'))\n",
    "amy = Student(Name('Amy', 'Wang'))\n",
    "\n",
    "amys_academic_term = Term(2020, 'Fall')\n",
    "amys_academic_term.add_course(Course('Algebra 1', 'MAT101', bill))\n",
    "amys_academic_term.add_course(Course('Physics', 'PHY101', bob))\n",
    "\n",
    "amy.add_academic_term(amys_academic_term)\n",
    "\n",
    "amys_academic_term = Term(2020, 'Winter')\n",
    "amys_academic_term.add_course(Course('Algebra 2', 'MAT102', bill))\n",
    "amys_academic_term.add_course(Course('Chemistry', 'CHEM101', bob))\n",
    "\n",
    "amy.add_academic_term(amys_academic_term)\n",
    "\n",
    "print(amy)"
   ]
  },
  {
   "cell_type": "markdown",
   "metadata": {},
   "source": [
    "### Map\n",
    "- Python Basics 11\n",
    "\n",
    "### Generator \n",
    "- Python Basics 7"
   ]
  }
 ],
 "metadata": {
  "kernelspec": {
   "display_name": "Python 3",
   "language": "python",
   "name": "python3"
  },
  "language_info": {
   "codemirror_mode": {
    "name": "ipython",
    "version": 3
   },
   "file_extension": ".py",
   "mimetype": "text/x-python",
   "name": "python",
   "nbconvert_exporter": "python",
   "pygments_lexer": "ipython3",
   "version": "3.8.3"
  }
 },
 "nbformat": 4,
 "nbformat_minor": 4
}
