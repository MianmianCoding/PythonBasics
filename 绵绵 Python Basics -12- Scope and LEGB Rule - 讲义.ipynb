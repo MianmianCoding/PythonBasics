{
 "cells": [
  {
   "cell_type": "markdown",
   "metadata": {},
   "source": [
    "# LEGB Rule\n",
    "\n",
    "- Local (or function) scope\n",
    "- Enclosing scope\n",
    "- Global (or module) scope\n",
    "- Built-in scope"
   ]
  },
  {
   "cell_type": "code",
   "execution_count": 1,
   "metadata": {},
   "outputs": [
    {
     "name": "stdout",
     "output_type": "stream",
     "text": [
      "global\n"
     ]
    }
   ],
   "source": [
    "x = 'global'\n",
    "\n",
    "def func():\n",
    "    print(x)\n",
    "\n",
    "func()"
   ]
  },
  {
   "cell_type": "code",
   "execution_count": 2,
   "metadata": {
    "scrolled": true
   },
   "outputs": [
    {
     "name": "stdout",
     "output_type": "stream",
     "text": [
      "global\n",
      "local\n",
      "global\n"
     ]
    }
   ],
   "source": [
    "x = 'global'\n",
    "\n",
    "def func():\n",
    "    x = 'local'\n",
    "    print(x)\n",
    "    \n",
    "print(x)\n",
    "\n",
    "func()\n",
    "\n",
    "print(x)"
   ]
  },
  {
   "cell_type": "code",
   "execution_count": 3,
   "metadata": {},
   "outputs": [
    {
     "ename": "UnboundLocalError",
     "evalue": "local variable 'x' referenced before assignment",
     "output_type": "error",
     "traceback": [
      "\u001b[0;31m---------------------------------------------------------------------------\u001b[0m",
      "\u001b[0;31mUnboundLocalError\u001b[0m                         Traceback (most recent call last)",
      "\u001b[0;32m<ipython-input-3-7db27bef62d8>\u001b[0m in \u001b[0;36m<module>\u001b[0;34m\u001b[0m\n\u001b[1;32m      5\u001b[0m     \u001b[0mx\u001b[0m \u001b[0;34m=\u001b[0m \u001b[0;34m'local'\u001b[0m\u001b[0;34m\u001b[0m\u001b[0;34m\u001b[0m\u001b[0m\n\u001b[1;32m      6\u001b[0m \u001b[0;34m\u001b[0m\u001b[0m\n\u001b[0;32m----> 7\u001b[0;31m \u001b[0mfunc\u001b[0m\u001b[0;34m(\u001b[0m\u001b[0;34m)\u001b[0m\u001b[0;34m\u001b[0m\u001b[0;34m\u001b[0m\u001b[0m\n\u001b[0m",
      "\u001b[0;32m<ipython-input-3-7db27bef62d8>\u001b[0m in \u001b[0;36mfunc\u001b[0;34m()\u001b[0m\n\u001b[1;32m      2\u001b[0m \u001b[0;34m\u001b[0m\u001b[0m\n\u001b[1;32m      3\u001b[0m \u001b[0;32mdef\u001b[0m \u001b[0mfunc\u001b[0m\u001b[0;34m(\u001b[0m\u001b[0;34m)\u001b[0m\u001b[0;34m:\u001b[0m\u001b[0;34m\u001b[0m\u001b[0;34m\u001b[0m\u001b[0m\n\u001b[0;32m----> 4\u001b[0;31m     \u001b[0mprint\u001b[0m\u001b[0;34m(\u001b[0m\u001b[0mx\u001b[0m\u001b[0;34m)\u001b[0m\u001b[0;34m\u001b[0m\u001b[0;34m\u001b[0m\u001b[0m\n\u001b[0m\u001b[1;32m      5\u001b[0m     \u001b[0mx\u001b[0m \u001b[0;34m=\u001b[0m \u001b[0;34m'local'\u001b[0m\u001b[0;34m\u001b[0m\u001b[0;34m\u001b[0m\u001b[0m\n\u001b[1;32m      6\u001b[0m \u001b[0;34m\u001b[0m\u001b[0m\n",
      "\u001b[0;31mUnboundLocalError\u001b[0m: local variable 'x' referenced before assignment"
     ]
    }
   ],
   "source": [
    "x = 'global'\n",
    "\n",
    "def func():\n",
    "    print(x)\n",
    "    x = 'local'\n",
    "    \n",
    "func()"
   ]
  },
  {
   "cell_type": "code",
   "execution_count": null,
   "metadata": {},
   "outputs": [],
   "source": [
    "x = 'global'\n",
    "\n",
    "def func():\n",
    "    global x \n",
    "    print(x) # global\n",
    "    \n",
    "    x = 'local'\n",
    "    print(x) # local\n",
    "    \n",
    "print(x) # global\n",
    "\n",
    "func()\n",
    "\n",
    "print(x) # local"
   ]
  },
  {
   "cell_type": "code",
   "execution_count": 4,
   "metadata": {},
   "outputs": [
    {
     "name": "stdout",
     "output_type": "stream",
     "text": [
      "outer\n",
      "inner\n",
      "outer\n",
      "global\n"
     ]
    }
   ],
   "source": [
    "x = 'global'\n",
    "\n",
    "def outer_func():\n",
    "    x = 'outer'\n",
    "    print(x) # outer\n",
    "    \n",
    "    def inner_func():\n",
    "        x = 'inner'\n",
    "        print(x) # inner\n",
    "    \n",
    "    inner_func()\n",
    "    print(x) # outer\n",
    "    \n",
    "outer_func()\n",
    "\n",
    "print(x) # global"
   ]
  },
  {
   "cell_type": "code",
   "execution_count": 5,
   "metadata": {},
   "outputs": [
    {
     "name": "stdout",
     "output_type": "stream",
     "text": [
      "outer\n",
      "outer\n",
      "inner\n",
      "inner\n",
      "global\n"
     ]
    }
   ],
   "source": [
    "x = 'global'\n",
    "\n",
    "def outer_func():\n",
    "    x = 'outer'\n",
    "    print(x) # outer\n",
    "    \n",
    "    def inner_func():\n",
    "        nonlocal x\n",
    "        print(x) # outer\n",
    "        \n",
    "        x = 'inner'\n",
    "        print(x) # inner\n",
    "        \n",
    "    inner_func()\n",
    "    \n",
    "    print(x) # inner\n",
    "    \n",
    "outer_func()\n",
    "print(x) # global"
   ]
  },
  {
   "cell_type": "code",
   "execution_count": 6,
   "metadata": {},
   "outputs": [
    {
     "name": "stdout",
     "output_type": "stream",
     "text": [
      "outer\n",
      "global\n",
      "inner\n",
      "outer\n",
      "inner\n"
     ]
    }
   ],
   "source": [
    "x = 'global'\n",
    "\n",
    "def outer_func():\n",
    "    x = 'outer'\n",
    "    print(x) # outer \n",
    "    \n",
    "    def inner_func():\n",
    "        global x\n",
    "        print(x) # global\n",
    "        \n",
    "        x = 'inner'\n",
    "        print(x) # inner\n",
    "        \n",
    "    inner_func()\n",
    "    \n",
    "    print(x) # outer\n",
    "    \n",
    "outer_func()\n",
    "print(x) # inner"
   ]
  }
 ],
 "metadata": {
  "kernelspec": {
   "display_name": "Python 3",
   "language": "python",
   "name": "python3"
  },
  "language_info": {
   "codemirror_mode": {
    "name": "ipython",
    "version": 3
   },
   "file_extension": ".py",
   "mimetype": "text/x-python",
   "name": "python",
   "nbconvert_exporter": "python",
   "pygments_lexer": "ipython3",
   "version": "3.8.3"
  }
 },
 "nbformat": 4,
 "nbformat_minor": 4
}
